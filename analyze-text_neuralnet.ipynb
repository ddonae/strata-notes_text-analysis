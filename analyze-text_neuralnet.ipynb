{
 "cells": [
  {
   "cell_type": "code",
   "execution_count": 1,
   "metadata": {
    "collapsed": true
   },
   "outputs": [],
   "source": [
    "import pandas as pd\n"
   ]
  },
  {
   "cell_type": "code",
   "execution_count": 4,
   "metadata": {
    "collapsed": false
   },
   "outputs": [
    {
     "data": {
      "text/html": [
       "<div>\n",
       "<table border=\"1\" class=\"dataframe\">\n",
       "  <thead>\n",
       "    <tr style=\"text-align: right;\">\n",
       "      <th></th>\n",
       "      <th>link</th>\n",
       "      <th>topic</th>\n",
       "      <th>descriptions</th>\n",
       "    </tr>\n",
       "  </thead>\n",
       "  <tbody>\n",
       "    <tr>\n",
       "      <th>0</th>\n",
       "      <td>/strata/hadoop-big-data-ny/public/schedule/det...</td>\n",
       "      <td>Parallel SQL and analytics with Solr</td>\n",
       "      <td>Analytics has increasingly become a major focu...</td>\n",
       "    </tr>\n",
       "    <tr>\n",
       "      <th>1</th>\n",
       "      <td>/strata/hadoop-big-data-ny/public/schedule/det...</td>\n",
       "      <td>JupyterLab: The evolution of the Jupyter Notebook</td>\n",
       "      <td>Project Jupyter provides building blocks for i...</td>\n",
       "    </tr>\n",
       "    <tr>\n",
       "      <th>2</th>\n",
       "      <td>/strata/hadoop-big-data-ny/public/schedule/det...</td>\n",
       "      <td>Designing a location intelligence platform for...</td>\n",
       "      <td>CartoDB has enabled hundreds of thousands of u...</td>\n",
       "    </tr>\n",
       "    <tr>\n",
       "      <th>3</th>\n",
       "      <td>/strata/hadoop-big-data-ny/public/schedule/det...</td>\n",
       "      <td>The future of column-oriented data processing ...</td>\n",
       "      <td>In pursuit of speed and efficiency, big data p...</td>\n",
       "    </tr>\n",
       "    <tr>\n",
       "      <th>4</th>\n",
       "      <td>/strata/hadoop-big-data-ny/public/schedule/det...</td>\n",
       "      <td>Beyond Hadoop at Yahoo: Interactive analytics ...</td>\n",
       "      <td>Yahoo initially built Hadoop as an answer to a...</td>\n",
       "    </tr>\n",
       "  </tbody>\n",
       "</table>\n",
       "</div>"
      ],
      "text/plain": [
       "                                                link  \\\n",
       "0  /strata/hadoop-big-data-ny/public/schedule/det...   \n",
       "1  /strata/hadoop-big-data-ny/public/schedule/det...   \n",
       "2  /strata/hadoop-big-data-ny/public/schedule/det...   \n",
       "3  /strata/hadoop-big-data-ny/public/schedule/det...   \n",
       "4  /strata/hadoop-big-data-ny/public/schedule/det...   \n",
       "\n",
       "                                               topic  \\\n",
       "0               Parallel SQL and analytics with Solr   \n",
       "1  JupyterLab: The evolution of the Jupyter Notebook   \n",
       "2  Designing a location intelligence platform for...   \n",
       "3  The future of column-oriented data processing ...   \n",
       "4  Beyond Hadoop at Yahoo: Interactive analytics ...   \n",
       "\n",
       "                                        descriptions  \n",
       "0  Analytics has increasingly become a major focu...  \n",
       "1  Project Jupyter provides building blocks for i...  \n",
       "2  CartoDB has enabled hundreds of thousands of u...  \n",
       "3  In pursuit of speed and efficiency, big data p...  \n",
       "4  Yahoo initially built Hadoop as an answer to a...  "
      ]
     },
     "execution_count": 4,
     "metadata": {},
     "output_type": "execute_result"
    }
   ],
   "source": [
    "sessions = pd.read_pickle('data_train/strata_sessions.pkl')\n",
    "\n",
    "sessions.head()"
   ]
  },
  {
   "cell_type": "code",
   "execution_count": null,
   "metadata": {
    "collapsed": true
   },
   "outputs": [],
   "source": []
  }
 ],
 "metadata": {
  "anaconda-cloud": {},
  "kernelspec": {
   "display_name": "Python [conda root]",
   "language": "python",
   "name": "conda-root-py"
  },
  "language_info": {
   "codemirror_mode": {
    "name": "ipython",
    "version": 2
   },
   "file_extension": ".py",
   "mimetype": "text/x-python",
   "name": "python",
   "nbconvert_exporter": "python",
   "pygments_lexer": "ipython2",
   "version": "2.7.12"
  }
 },
 "nbformat": 4,
 "nbformat_minor": 1
}
